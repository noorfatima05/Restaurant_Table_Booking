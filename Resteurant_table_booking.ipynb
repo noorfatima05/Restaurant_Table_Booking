{
 "cells": [
  {
   "cell_type": "code",
   "execution_count": 26,
   "id": "4dd68125",
   "metadata": {},
   "outputs": [
    {
     "name": "stdout",
     "output_type": "stream",
     "text": [
      "our dishes\n",
      "Zinger burger:450\n",
      "Koyla Karahi:1100\n",
      "Palla Machli:1150\n",
      "Murgh Chole:200\n",
      "orders table\n",
      "Table 2\n",
      "Table 3\n",
      "Table 6\n",
      "Table 8\n",
      "order details\n",
      "Table 6:Zinger burger\n",
      "Table 3:Koyla Karahi\n",
      "Table 2:Palla Machli\n",
      "Table 8:Murgh Chole\n"
     ]
    }
   ],
   "source": [
    "class Restaurant:\n",
    "    def __init__(self):\n",
    "        self.menu_items = {}\n",
    "        self.book_table = []\n",
    "        self.customer_orders = []\n",
    "    def add_item_to_menu(self, item, price):\n",
    "        self.menu_items[item] = price\n",
    "    def book_tables(self, table_number):\n",
    "        self.book_table.append(table_number)\n",
    "    def customer_order(self, table_number, order):\n",
    "        order_details = {\n",
    "            \"table_number\" : table_number,\n",
    "            \"order\" : order,\n",
    "        }\n",
    "        self.customer_orders.append(order_details)\n",
    "    def print_menu_item(self):\n",
    "        for item,price in self.menu_items.items():\n",
    "            print(\"{}:{}\".format(item,price))\n",
    "    def print_table_reservations(self):\n",
    "        for table in self.book_table:\n",
    "            print(\"Table {}\".format(table))\n",
    "    def print_customer_orders(self):\n",
    "        for order in self.customer_orders:\n",
    "            print(\"Table {}:{}\".format(order['table_number'], order['order']))\n",
    "\n",
    "restaurant = Restaurant()\n",
    "\n",
    "\n",
    "restaurant.add_item_to_menu('Zinger burger',450)\n",
    "restaurant.add_item_to_menu('Koyla Karahi',1100)\n",
    "restaurant.add_item_to_menu('Palla Machli',1150)\n",
    "restaurant.add_item_to_menu('Murgh Chole',200)\n",
    "\n",
    "\n",
    "\n",
    "restaurant.book_tables(2)\n",
    "restaurant.book_tables(3)\n",
    "restaurant.book_tables(6)\n",
    "restaurant.book_tables(8)\n",
    "\n",
    "\n",
    "\n",
    "restaurant.customer_order(6,'Zinger burger')\n",
    "restaurant.customer_order(3,'Koyla Karahi')\n",
    "restaurant.customer_order(2,'Palla Machli')\n",
    "restaurant.customer_order(8,'Murgh Chole')\n",
    "print(\"our dishes\")\n",
    "restaurant.print_menu_item()\n",
    "print(\"orders table\")\n",
    "restaurant.print_table_reservations()\n",
    "\n",
    "print(\"order details\")\n",
    "restaurant.print_customer_orders()"
   ]
  },
  {
   "cell_type": "code",
   "execution_count": null,
   "id": "b392f137",
   "metadata": {},
   "outputs": [],
   "source": []
  }
 ],
 "metadata": {
  "kernelspec": {
   "display_name": "Python 3 (ipykernel)",
   "language": "python",
   "name": "python3"
  },
  "language_info": {
   "codemirror_mode": {
    "name": "ipython",
    "version": 3
   },
   "file_extension": ".py",
   "mimetype": "text/x-python",
   "name": "python",
   "nbconvert_exporter": "python",
   "pygments_lexer": "ipython3",
   "version": "3.11.4"
  }
 },
 "nbformat": 4,
 "nbformat_minor": 5
}
